{
 "cells": [
  {
   "cell_type": "markdown",
   "metadata": {},
   "source": [
    "## A crash course in scientific computing with Python\n",
    "By Mohamad Ali-Dib  ( m.alidib@utoronto.ca )"
   ]
  },
  {
   "cell_type": "code",
   "execution_count": null,
   "metadata": {},
   "outputs": [],
   "source": [
    "from IPython.display import Image\n",
    "from IPython.core.display import HTML "
   ]
  },
  {
   "cell_type": "markdown",
   "metadata": {},
   "source": [
    "# **What is computer programming ?**\n"
   ]
  },
  {
   "cell_type": "markdown",
   "metadata": {},
   "source": [
    "## A programming language takes human readable (and writable) set of insructions (source code), and transform it into a language the CPU can understand and process."
   ]
  },
  {
   "cell_type": "markdown",
   "metadata": {},
   "source": [
    "<h2 align=\"center\">Image</h2> <img src=\"https://scienceaid.net/images/thumb/1/14/1_2.png/630px-1_2.png\" width=\"400\">"
   ]
  },
  {
   "cell_type": "markdown",
   "metadata": {},
   "source": [
    "# Why Python ?"
   ]
  },
  {
   "cell_type": "markdown",
   "metadata": {},
   "source": [
    "<h2 align=\"center\">Image</h2> <img src=\"https://www.webopedia.com/imagesvr_ce/5519/top-programming-languages.JPG\" >"
   ]
  },
  {
   "cell_type": "markdown",
   "metadata": {},
   "source": [
    "<h2 align=\"center\">Image</h2> <img src=\"https://s3.amazonaws.com/codementor_content/Graphs+for+%22What+Programming+Language+Should+a+Beginner+Learn+in+2017%3F%22/averagesalar.jpg\" width=\"400\">"
   ]
  },
  {
   "cell_type": "markdown",
   "metadata": {},
   "source": [
    "<h2 align=\"center\">Image</h2> <img src=\"https://data-flair.training/blogs/wp-content/uploads/sites/2/2018/03/Python-Advantages-and-Disadvantages-011.jpg\" width=\"400\">\n"
   ]
  },
  {
   "cell_type": "markdown",
   "metadata": {},
   "source": [
    "<h2 align=\"center\">Image</h2> <img src=\"https://blog.penjee.com/wp-content/uploads/2016/02/why-python-readability.png\" width=\"600\">"
   ]
  },
  {
   "cell_type": "markdown",
   "metadata": {},
   "source": [
    "# Simple Python codes"
   ]
  },
  {
   "cell_type": "code",
   "execution_count": 1,
   "metadata": {},
   "outputs": [
    {
     "name": "stdout",
     "output_type": "stream",
     "text": [
      "Hello world\n"
     ]
    }
   ],
   "source": [
    "print ('Hello world')    # Tell the computer to print Hello world on the screen.\n",
    "                         # Notice the quotation marks ' ', these mean that whatever is\n",
    "                         # between them should be treated as a strings , not numbers."
   ]
  },
  {
   "cell_type": "code",
   "execution_count": 51,
   "metadata": {},
   "outputs": [
    {
     "name": "stdout",
     "output_type": "stream",
     "text": [
      "a + b\n",
      "3\n",
      "2\n",
      "0.5\n",
      "1\n",
      "3 -1\n"
     ]
    }
   ],
   "source": [
    "a = 1\n",
    "b = 2\n",
    "\n",
    "print ('a + b')\n",
    "print (a + b)     # Notice the absence of the quotation mars, indication that inside the parenthesis                  \n",
    "print (a * b)     # should be treated as numbers.  \n",
    "print (a / b)\n",
    "print (a ** b)  # **b is to the power b\n",
    "print (a+b , a-b)  # you can print multiple things in one command"
   ]
  },
  {
   "cell_type": "markdown",
   "metadata": {},
   "source": [
    "## Python math library\n",
    "<h2 align=\"center\">Image</h2> <img src=\"https://www.oreilly.com/library/view/discovering-computer-science/9781482254167/images/f0701-01.jpg\" width=\"600\">\n"
   ]
  },
  {
   "cell_type": "code",
   "execution_count": 7,
   "metadata": {},
   "outputs": [
    {
     "name": "stdout",
     "output_type": "stream",
     "text": [
      "-0.8390715290764524\n",
      "0.6483608274590866\n"
     ]
    }
   ],
   "source": [
    "from numpy import *   # from library \"numpy\" (numerical python) import everything (*). \n",
    "\n",
    "a = 10\n",
    "\n",
    "print (cos (a))\n",
    "print (tan (a))"
   ]
  },
  {
   "cell_type": "markdown",
   "metadata": {},
   "source": [
    "# Python arrays & matrices\n",
    "## 1d arrays"
   ]
  },
  {
   "cell_type": "code",
   "execution_count": 5,
   "metadata": {},
   "outputs": [
    {
     "name": "stdout",
     "output_type": "stream",
     "text": [
      "[1 2 3 4]\n",
      "[2 4 6 8]\n",
      "[ 1  4  9 16]\n",
      "[1. 1. 1. 1.]\n",
      "[ 0.84147098  0.90929743  0.14112001 -0.7568025 ]\n"
     ]
    }
   ],
   "source": [
    "array1 = array( [1, 2, 3, 4] )    # create a new array with 4 elements\n",
    "array2 = array( [1, 2, 3, 4] )   \n",
    "\n",
    "print (array1)\n",
    "print (array1 + array2)  # operations on array, element per element wise.\n",
    "print (array1 * array2)\n",
    "print (array1 / array2)\n",
    "print (sin (array1))"
   ]
  },
  {
   "cell_type": "markdown",
   "metadata": {},
   "source": [
    "## Matrices"
   ]
  },
  {
   "cell_type": "code",
   "execution_count": 26,
   "metadata": {},
   "outputs": [
    {
     "name": "stdout",
     "output_type": "stream",
     "text": [
      "[[11 12 13]\n",
      " [21 22 23]\n",
      " [31 32 33]]\n",
      "-------------------------\n",
      "[[22 24 26]\n",
      " [42 44 46]\n",
      " [62 64 66]]\n",
      "-------------------------\n",
      "[[ 121  144  169]\n",
      " [ 441  484  529]\n",
      " [ 961 1024 1089]]\n",
      "-------------------------\n",
      "[[ 776  812  848]\n",
      " [1406 1472 1538]\n",
      " [2036 2132 2228]]\n",
      "-------------------------\n",
      "[[11 21 31]\n",
      " [12 22 32]\n",
      " [13 23 33]]\n"
     ]
    }
   ],
   "source": [
    "matrix1 = array([  [11, 12, 13] , [21, 22, 23] , [31, 32, 33]  ]) \n",
    "matrix2 = array([  [11, 12, 13] , [21, 22, 23] , [31, 32, 33]  ]) \n",
    "\n",
    "print (matrix1)\n",
    "print ('-------------------------')\n",
    "print (matrix1 + matrix2)\n",
    "print ('-------------------------')\n",
    "print (matrix1 * matrix2)   # this is element by element multiplication\n",
    "print ('-------------------------')\n",
    "print (matrix1.dot(matrix2))  # Matrix dot product , notice the use of the \"dot\" operator, and the synthax\n",
    "print ('-------------------------')\n",
    "print (matrix1.T)   # .T is the matrix transpose operator"
   ]
  },
  {
   "attachments": {},
   "cell_type": "markdown",
   "metadata": {},
   "source": [
    "## How do you select specific elements within an array ?\n",
    "\n",
    "<h2 align=\"center\">Image</h2> <img src=\"https://i1.wp.com/www.bragitoff.com/wp-content/uploads/2017/08/2d-Arrays.png\" width=\"500\">\n",
    "<h2 align=\"center\">Image</h2> <img src=\"https://t1.daumcdn.net/cfile/tistory/24037B3958B18FD907\" width=\"700\">"
   ]
  },
  {
   "cell_type": "code",
   "execution_count": 40,
   "metadata": {},
   "outputs": [
    {
     "name": "stdout",
     "output_type": "stream",
     "text": [
      "2\n",
      "12 --- 33\n",
      "[11 12 13]\n",
      "[12 22 32]\n",
      "[12 22]\n"
     ]
    }
   ],
   "source": [
    "matrix1 = array([  [11, 12, 13] , [21, 22, 23] , [31, 32, 33]  ]) \n",
    "array1 = array( [1, 2, 3, 4] )    # create a new array with 4 elements\n",
    "\n",
    "print (array1[1]) # print second element of this array\n",
    "print (matrix1[0,1],'---', matrix1[2,2] )  # print elements [0,1] and [2,2]\n",
    "print (matrix1[0,:])   # print all elements in row 0\n",
    "print (matrix1[:,1])   # print all elements in column 0\n",
    "print (matrix1[0:2,1])   # print first two elements in column 0. Notice how upper limit is not included (the 2)"
   ]
  },
  {
   "cell_type": "markdown",
   "metadata": {},
   "source": [
    "<h2 align=\"center\">Image</h2> <img src=\"https://www.micronbot.com/usr/uploads/2017/03/3810329417.png\" width=\"800\">\n"
   ]
  },
  {
   "cell_type": "code",
   "execution_count": 73,
   "metadata": {},
   "outputs": [
    {
     "name": "stdout",
     "output_type": "stream",
     "text": [
      "10\n",
      "2.5\n",
      "[ 1  3  6 10]\n",
      "10.0\n"
     ]
    }
   ],
   "source": [
    "array1 = array( [1, 2, 3, 4] )\n",
    "print (array1.sum())\n",
    "print (array1.mean())\n",
    "print (array1.cumsum())\n",
    "print (array1.max() * median(array1))"
   ]
  },
  {
   "cell_type": "markdown",
   "metadata": {},
   "source": [
    "# Data plotting 101"
   ]
  },
  {
   "cell_type": "code",
   "execution_count": 57,
   "metadata": {},
   "outputs": [
    {
     "data": {
      "image/png": "[encoded data removed]",
      "text/plain": [
       "<Figure size 432x288 with 1 Axes>"
      ]
     },
     "metadata": {
      "needs_background": "light"
     },
     "output_type": "display_data"
    }
   ],
   "source": [
    "from matplotlib import pyplot as plt\n",
    "\n",
    "array1 = array( [1, 2, 3, 4] )\n",
    "array2 = array( [1, 2, 3, 4] )\n",
    "\n",
    "plt.plot(array1,array2, c='r')   # linear plot y (array2) as a function of x (array1), color = r (red)\n",
    "plt.scatter(array1,array2, c='b') # scatter plot y (array2) as a function of x (array1), color = b (blue)\n",
    "plt.show()  # show the plot on screen"
   ]
  },
  {
   "cell_type": "markdown",
   "metadata": {},
   "source": [
    "# Flow control with python\n",
    "## 1- The *if* statement\n",
    "<h2 align=\"center\">Image</h2> <img src=\"https://www.tutorialspoint.com/python/images/if_else_statement.jpg\" width=\"400\">\n"
   ]
  },
  {
   "cell_type": "code",
   "execution_count": 65,
   "metadata": {},
   "outputs": [
    {
     "name": "stdout",
     "output_type": "stream",
     "text": [
      "a < b\n",
      "a is positive and > b\n"
     ]
    }
   ],
   "source": [
    "a = 1\n",
    "b = 5\n",
    "\n",
    "if (a > b):     # Format is always --> if (conditions) :   <-- Do not forget the \":\" \n",
    "    print ('a > b')  # Indentation is very important. Use tabs or spaces, NEVER both\n",
    "elif (a == b):\n",
    "    print ('a = b')\n",
    "else:\n",
    "    print ('a < b')  # Indentation should be consistent throughout the code\n",
    "    \n",
    "if (a < b):\n",
    "    if (a > 0):     # Nested if statements, notice the indentation consistency \n",
    "        print ('a is positive and > b')\n",
    "        \n",
    "# Python conditionals are:  >, >=, <, <=, ==, != "
   ]
  },
  {
   "cell_type": "markdown",
   "metadata": {},
   "source": [
    "## 2- The *for* and *when* statements  \n",
    "<h2 align=\"center\">Image</h2> <img src=\"https://www.tutorialspoint.com/python/images/python_for_loop.jpg\" width=\"400\">\n",
    "<h2 align=\"center\">Image</h2> <img src=\"https://www.tutorialspoint.com/python/images/python_while_loop.jpg\" width=\"400\">"
   ]
  },
  {
   "cell_type": "code",
   "execution_count": 72,
   "metadata": {},
   "outputs": [
    {
     "name": "stdout",
     "output_type": "stream",
     "text": [
      "0\n",
      "1\n",
      "2\n",
      "--------------------------------\n",
      "0\n",
      "1\n",
      "2\n"
     ]
    }
   ],
   "source": [
    "for i in range (0,3):  # Syntax is similar to if statements. Last element is **not** included.\n",
    "    print (i)         # notice indentation\n",
    "print ('--------------------------------')\n",
    "\n",
    "\n",
    "j = 0\n",
    "while (j < 3):\n",
    "    print (j)\n",
    "    j = j + 1      # If you remove this line the cycle will continue forever, possibly crashing the computer"
   ]
  },
  {
   "cell_type": "markdown",
   "metadata": {},
   "source": [
    "# Functions\n",
    "\n",
    "<h2 align=\"center\">Image</h2> <img src=\"https://i1.wp.com/hcc-cs.weebly.com/uploads/2/4/5/3/24535251/1523299_orig.png\" width=\"400\">\n",
    "\n",
    "<h2 align=\"center\">Image</h2> <img src=\"https://swcarpentry.github.io/swc-releases/2016.06/python-novice-inflammation/fig/python-function.svg\" width=\"400\">"
   ]
  },
  {
   "cell_type": "code",
   "execution_count": 82,
   "metadata": {},
   "outputs": [
    {
     "name": "stdout",
     "output_type": "stream",
     "text": [
      "37.77777777777778\n",
      "300.15\n",
      "310.92777777777775\n"
     ]
    }
   ],
   "source": [
    "def fahr_to_celsius(temp):\n",
    "    return ((temp - 32) * (5/9))\n",
    "\n",
    "def celsius_to_kelvin(temp_c):\n",
    "    return temp_c + 273.15\n",
    "\n",
    "def fahr_to_kelvin(temp_f):\n",
    "    temp_c = fahr_to_celsius(temp_f)\n",
    "    temp_k = celsius_to_kelvin(temp_c)\n",
    "    return temp_k\n",
    "\n",
    "print (fahr_to_celsius(100))\n",
    "print (celsius_to_kelvin(27))\n",
    "print (fahr_to_kelvin(100))"
   ]
  },
  {
   "cell_type": "markdown",
   "metadata": {},
   "source": [
    "# Simple exercices\n",
    "## Problem 1"
   ]
  },
  {
   "cell_type": "markdown",
   "metadata": {},
   "source": [
    "A Pythagorean triplet is a set of three natural numbers, a < b < c, for which,\n",
    "\n",
    "a$^2$ + b$^2$ = c$^2$\n",
    "For example, 3$^2$ + 4$^2$ = 9 + 16 = 25 = 5$^2$.\n",
    "\n",
    "There exists exactly one Pythagorean triplet for which a + b + c = 1000.\n",
    "Find the product abc.\n"
   ]
  },
  {
   "cell_type": "code",
   "execution_count": null,
   "metadata": {},
   "outputs": [],
   "source": []
  },
  {
   "cell_type": "markdown",
   "metadata": {},
   "source": [
    "## Problem 2"
   ]
  },
  {
   "cell_type": "markdown",
   "metadata": {},
   "source": [
    "The sum of the squares of the first ten natural numbers is,\n",
    "\n",
    "1$^2$ + 2$^2$ + ... + 10$^2$ = 385\n",
    "The square of the sum of the first ten natural numbers is,\n",
    "\n",
    "(1 + 2 + ... + 10)$^2$ = 55$^2$ = 3025\n",
    "Hence the difference between the sum of the squares of the first ten natural numbers and the square of the sum is 3025 − 385 = 2640.\n",
    "\n",
    "Find the difference between the sum of the squares of the first one hundred natural numbers and the square of the sum."
   ]
  },
  {
   "cell_type": "code",
   "execution_count": null,
   "metadata": {},
   "outputs": [],
   "source": []
  },
  {
   "cell_type": "markdown",
   "metadata": {},
   "source": [
    "## Problem 3"
   ]
  },
  {
   "cell_type": "markdown",
   "metadata": {},
   "source": [
    "A palindromic number reads the same both ways. The largest palindrome made from the product of two 2-digit numbers is 9009 = 91 × 99.\n",
    "\n",
    "Find the largest palindrome made from the product of two 3-digit numbers."
   ]
  },
  {
   "cell_type": "code",
   "execution_count": null,
   "metadata": {},
   "outputs": [],
   "source": []
  }
 ],
 "metadata": {
  "anaconda-cloud": {},
  "kernelspec": {
   "display_name": "Python 3",
   "language": "python",
   "name": "python3"
  },
  "language_info": {
   "codemirror_mode": {
    "name": "ipython",
    "version": 3
   },
   "file_extension": ".py",
   "mimetype": "text/x-python",
   "name": "python",
   "nbconvert_exporter": "python",
   "pygments_lexer": "ipython3",
   "version": "3.7.0"
  }
 },
 "nbformat": 4,
 "nbformat_minor": 2
}
